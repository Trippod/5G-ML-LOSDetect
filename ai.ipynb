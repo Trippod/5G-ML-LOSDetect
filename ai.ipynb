{
 "cells": [
  {
   "metadata": {
    "jupyter": {
     "is_executing": true
    }
   },
   "cell_type": "code",
   "source": "",
   "id": "initial_id",
   "outputs": [],
   "execution_count": null
  },
  {
   "metadata": {
    "jupyter": {
     "is_executing": true
    }
   },
   "cell_type": "code",
   "source": [
    "from sklearn.cluster import KMeans\n",
    "from sklearn.preprocessing import StandardScaler\n",
    "from sklearn.decomposition import PCA\n",
    "from sklearn.metrics import adjusted_rand_score\n",
    "import matplotlib.pyplot as plt\n",
    "import pandas as pd\n",
    "\n",
    "# Load the dataset\n",
    "data = pd.read_csv(\"11_2_Test.csv\")\n",
    "\n",
    "# Features for clustering\n",
    "features = [\"Distance\", \"Amplitude\", \"Tau\", \"DOA\", \"RTT\"]\n",
    "X = data[features]\n",
    "\n",
    "# Normalize the features\n",
    "scaler = StandardScaler()\n",
    "X_scaled = scaler.fit_transform(X)\n",
    "\n",
    "# Apply KMeans clustering\n",
    "kmeans = KMeans(n_clusters=6, random_state=42)  # 6 clusters for 6 unique labels\n",
    "data[\"Cluster\"] = kmeans.fit_predict(X_scaled)\n",
    "\n",
    "# Adjust true labels to match cluster indexing (0-5 instead of 1-6)\n",
    "true_labels = data[\"LOS/NLOS\"] - 1\n",
    "\n",
    "# Evaluate clustering performance\n",
    "ari_score = adjusted_rand_score(true_labels, data[\"Cluster\"])\n",
    "\n",
    "# Calculate percentage of correct matches\n",
    "correct_matches = sum(true_labels == data[\"Cluster\"])\n",
    "total_samples = len(true_labels)\n",
    "accuracy_percentage = (correct_matches / total_samples) * 100\n",
    "\n",
    "print(f\"Adjusted Rand Index (ARI) Score: {ari_score}\")\n",
    "print(f\"Percentage of correct matches: {accuracy_percentage:.2f}%\")\n",
    "\n",
    "# Visualize clusters using PCA for dimensionality reduction\n",
    "pca = PCA(n_components=2)\n",
    "X_pca = pca.fit_transform(X_scaled)\n",
    "data[\"PCA1\"] = X_pca[:, 0]\n",
    "data[\"PCA2\"] = X_pca[:, 1]\n",
    "\n",
    "# Plot the clusters\n",
    "plt.figure(figsize=(10, 7))\n",
    "for cluster in range(6):\n",
    "    cluster_data = data[data[\"Cluster\"] == cluster]\n",
    "    plt.scatter(cluster_data[\"PCA1\"], cluster_data[\"PCA2\"], label=f'Cluster {cluster}')\n",
    "    \n",
    "plt.title('K-Means Clustering with PCA Visualization')\n",
    "plt.xlabel('PCA Component 1')\n",
    "plt.ylabel('PCA Component 2')\n",
    "plt.legend()\n",
    "plt.grid(True)\n",
    "plt.show()\n",
    "\n",
    "# Save clustered data to a new file\n",
    "data.to_csv(\"clustered_data_with_pca.csv\", index=False)\n",
    "print(\"Clustered data saved to 'clustered_data_with_pca.csv'.\")"
   ],
   "id": "38178b1ead139bae",
   "outputs": [],
   "execution_count": null
  },
  {
   "metadata": {
    "ExecuteTime": {
     "end_time": "2025-01-25T22:29:01.132165Z",
     "start_time": "2025-01-25T22:29:01.118432Z"
    }
   },
   "cell_type": "code",
   "source": [
    "from scipy.optimize import linear_sum_assignment\n",
    "import numpy as np\n",
    "\n",
    "# Create a confusion matrix\n",
    "confusion_matrix = pd.crosstab(data[\"Cluster\"], true_labels)\n",
    "\n",
    "# Use Hungarian Algorithm to find the optimal mapping\n",
    "row_ind, col_ind = linear_sum_assignment(-confusion_matrix.values)\n",
    "\n",
    "# Remap the cluster labels\n",
    "mapping = {row: col for row, col in zip(row_ind, col_ind)}\n",
    "data[\"Mapped_Cluster\"] = data[\"Cluster\"].map(mapping)\n",
    "\n",
    "# Recalculate percentage of correct matches\n",
    "correct_matches = sum(true_labels == data[\"Mapped_Cluster\"])\n",
    "accuracy_percentage = (correct_matches / total_samples) * 100\n",
    "\n",
    "print(f\"Adjusted Rand Index (ARI) Score: {ari_score}\")\n",
    "print(f\"Percentage of correct matches after mapping: {accuracy_percentage:.2f}%\")\n"
   ],
   "id": "10e82d40af2af383",
   "outputs": [
    {
     "name": "stdout",
     "output_type": "stream",
     "text": [
      "Adjusted Rand Index (ARI) Score: 0.05924156121689564\n",
      "Percentage of correct matches after mapping: 35.67%\n"
     ]
    }
   ],
   "execution_count": 513
  },
  {
   "metadata": {
    "ExecuteTime": {
     "end_time": "2025-01-25T22:29:01.141990Z",
     "start_time": "2025-01-25T22:29:01.133173Z"
    }
   },
   "cell_type": "code",
   "source": [
    "from sklearn.metrics import accuracy_score\n",
    "\n",
    "# Mapowanie klastrów na dominujące etykiety w kolumnie Paths\n",
    "cluster_to_label = data.groupby(\"Cluster\")[\"LOS/NLOS\"].agg(lambda x: x.mode()[0])\n",
    "\n",
    "# Przypisanie dominujących etykiet do danych na podstawie klastrów\n",
    "data[\"Predicted Paths\"] = data[\"Cluster\"].map(cluster_to_label)\n",
    "\n",
    "# Obliczenie procentowej zgodności\n",
    "accuracy = accuracy_score(data[\"LOS/NLOS\"], data[\"Predicted Paths\"]) * 100\n",
    "print(f\"Procentowa zgodność danych z klastrami: {accuracy:.2f}%\")"
   ],
   "id": "758c8d3d9cef133",
   "outputs": [
    {
     "name": "stdout",
     "output_type": "stream",
     "text": [
      "Procentowa zgodność danych z klastrami: 72.98%\n"
     ]
    }
   ],
   "execution_count": 514
  },
  {
   "metadata": {},
   "cell_type": "markdown",
   "source": "",
   "id": "d92bbc4cc978895b"
  },
  {
   "metadata": {
    "ExecuteTime": {
     "end_time": "2025-01-25T22:29:01.157375Z",
     "start_time": "2025-01-25T22:29:01.143Z"
    }
   },
   "cell_type": "code",
   "source": [
    "# Mapowanie klastrów na dominujące etykiety w kolumnie Paths\n",
    "cluster_to_label = data.groupby(\"Cluster\")[\"LOS/NLOS\"].agg(lambda x: x.mode()[0])\n",
    "\n",
    "# Przypisanie dominujących etykiet do danych na podstawie klastrów\n",
    "data[\"Predicted Paths\"] = data[\"Cluster\"].map(cluster_to_label)\n",
    "\n",
    "# Dodanie informacji o poprawności predykcji\n",
    "data[\"Correct\"] = data[\"LOS/NLOS\"] == data[\"Predicted Paths\"]\n",
    "\n",
    "# Podsumowanie wyników dla każdej grupy\n",
    "group_summary = data.groupby(\"Cluster\").agg(\n",
    "    Total=(\"LOS/NLOS\", \"count\"),\n",
    "    Correct=(\"Correct\", \"sum\"),\n",
    "    Incorrect=(\"Correct\", lambda x: (~x).sum())\n",
    ")\n",
    "\n",
    "# Dodanie procentowej poprawności\n",
    "group_summary[\"Accuracy (%)\"] = (group_summary[\"Correct\"] / group_summary[\"Total\"]) * 100\n",
    "\n",
    "# Wyświetlenie szczegółowego podsumowania\n",
    "# print(group_summary)"
   ],
   "id": "6b06228fb363ccb",
   "outputs": [],
   "execution_count": 515
  },
  {
   "metadata": {
    "jupyter": {
     "is_executing": true
    }
   },
   "cell_type": "code",
   "source": [
    "import pandas as pd\n",
    "import numpy as np\n",
    "import matplotlib.pyplot as plt\n",
    "from sklearn.model_selection import train_test_split\n",
    "from sklearn.preprocessing import StandardScaler\n",
    "from sklearn.metrics import classification_report, confusion_matrix, ConfusionMatrixDisplay\n",
    "from tensorflow.keras.models import Sequential\n",
    "from tensorflow.keras.layers import Dense\n",
    "from tensorflow.keras.utils import to_categorical\n",
    "\n",
    "\n",
    "data = pd.read_csv(\"11_2_Test.csv\")\n",
    "\n",
    "X = data[[\"Distance\", \"Amplitude\", \"Tau\",\"DOA\", \"RTT\"]]\n",
    "y = data[\"LOS/NLOS\"]\n",
    "\n",
    "\n",
    "scaler = StandardScaler()\n",
    "X_scaled = scaler.fit_transform(X)\n",
    "\n",
    "# Konwersja etykiet na format one-hot\n",
    "y_categorical = to_categorical(y)\n",
    "\n",
    "# Podział na dane treningowe i testowe\n",
    "X_train, X_test, y_train, y_test = train_test_split(X_scaled, y_categorical, test_size=0.2, random_state=42)\n",
    "\n",
    "\n",
    "\n",
    "\n",
    "# Budowa sieci neuronowej\n",
    "model = Sequential([\n",
    "    Dense(64, input_dim=X_train.shape[1], activation='selu'),  # Warstwa ukryta\n",
    "    Dense(32, activation='selu'),                              # Kolejna warstwa ukryta\n",
    "    Dense(y_train.shape[1], activation='softmax')              # Warstwa wyjściowa\n",
    "])\n",
    "\n",
    "# Kompilacja modelu\n",
    "model.compile(optimizer='adam', loss='categorical_crossentropy', metrics=['accuracy'])\n",
    "\n",
    "# Trenowanie modelu\n",
    "history = model.fit(X_train, y_train, epochs=200, batch_size=32, validation_split=0.2, verbose=1)\n",
    "\n",
    "# Ocena modelu\n",
    "loss, accuracy = model.evaluate(X_test, y_test, verbose=0)\n",
    "print(f\"Dokładność na zbiorze testowym: {accuracy * 100:.2f}%\")\n",
    "\n",
    "# Predykcja\n",
    "y_pred = model.predict(X_test)\n",
    "y_pred_labels = np.argmax(y_pred, axis=1)\n",
    "y_test_labels = np.argmax(y_test, axis=1)\n",
    "\n",
    "# Raport klasyfikacji\n",
    "print(classification_report(y_test_labels, y_pred_labels))\n",
    "\n",
    "# Macierz konfuzji\n",
    "cm = confusion_matrix(y_test_labels, y_pred_labels)\n",
    "ConfusionMatrixDisplay(cm, display_labels=np.unique(data[\"LOS/NLOS\"])).plot(cmap=\"Blues\")\n",
    "plt.title(\"Macierz konfuzji\")\n",
    "plt.show()\n",
    "\n",
    "# Wizualizacja historii uczenia\n",
    "plt.figure(figsize=(12, 6))\n",
    "plt.plot(history.history['accuracy'], label='Dokładność na treningu')\n",
    "plt.plot(history.history['val_accuracy'], label='Dokładność na walidacji')\n",
    "plt.title(\"Historia dokładności\")\n",
    "plt.xlabel(\"Epoka\")\n",
    "plt.ylabel(\"Dokładność\")\n",
    "plt.legend()\n",
    "plt.show()"
   ],
   "id": "42a063d9dfe34a38",
   "outputs": [],
   "execution_count": null
  },
  {
   "metadata": {
    "jupyter": {
     "is_executing": true
    }
   },
   "cell_type": "code",
   "source": [
    "plt.figure(figsize=(12, 6))\n",
    "plt.plot(history.history['loss'], label='Strata na treningu', color='blue')\n",
    "plt.plot(history.history['val_loss'], label='Strata na walidacji', color='orange')\n",
    "plt.title(\"Historia funkcji strat\")\n",
    "plt.xlabel(\"Epoka\")\n",
    "plt.ylabel(\"Strata\")\n",
    "plt.legend()\n",
    "plt.grid(True)\n",
    "plt.show()\n",
    "\n",
    "\n",
    "import seaborn as sns\n",
    "\n",
    "# Heatmapa macierzy konfuzji\n",
    "plt.figure(figsize=(10, 8))\n",
    "sns.heatmap(cm, annot=True, fmt=\"d\", cmap=\"Blues\", xticklabels=np.unique(data[\"LOS/NLOS\"]), yticklabels=np.unique(data[\"LOS/NLOS\"]))\n",
    "plt.title(\"Heatmapa macierzy konfuzji\")\n",
    "plt.xlabel(\"Przewidywane klasy\")\n",
    "plt.ylabel(\"Rzeczywiste klasy\")\n",
    "plt.show()\n",
    "\n",
    "\n",
    "plt.figure(figsize=(12, 6))\n",
    "for i in range(y_pred.shape[1]):\n",
    "    plt.hist(y_pred[:, i], bins=20, alpha=0.5, label=f\"Klasa {i}\")\n",
    "plt.title(\"Rozkład przewidywanych prawdopodobieństw\")\n",
    "plt.xlabel(\"Prawdopodobieństwo\")\n",
    "plt.ylabel(\"Liczba próbek\")\n",
    "plt.legend()\n",
    "plt.grid(True)\n",
    "plt.show()\n",
    "\n",
    "\n",
    "plt.figure(figsize=(10, 6))\n",
    "plt.scatter(y_test_labels, y_pred_labels, alpha=0.6, c='blue', label=\"Próbki\")\n",
    "plt.title(\"Porównanie przewidywanych i rzeczywistych etykiet\")\n",
    "plt.xlabel(\"Rzeczywiste etykiety\")\n",
    "plt.ylabel(\"Przewidywane etykiety\")\n",
    "plt.xticks(np.unique(y_test_labels))\n",
    "plt.yticks(np.unique(y_test_labels))\n",
    "plt.grid(True)\n",
    "plt.legend()\n",
    "plt.show()\n",
    "\n",
    "\n",
    "\n",
    "correct_by_class = []\n",
    "incorrect_by_class = []\n",
    "\n",
    "for cls in np.unique(y_test_labels):\n",
    "    correct = sum((y_test_labels == cls) & (y_pred_labels == cls))\n",
    "    incorrect = sum((y_test_labels == cls) & (y_pred_labels != cls))\n",
    "    correct_by_class.append(correct)\n",
    "    incorrect_by_class.append(incorrect)\n",
    "\n",
    "x = np.arange(len(np.unique(y_test_labels)))\n",
    "width = 0.35\n",
    "\n",
    "plt.figure(figsize=(10, 6))\n",
    "plt.bar(x - width / 2, correct_by_class, width, label='Poprawne', color='green')\n",
    "plt.bar(x + width / 2, incorrect_by_class, width, label='Niepoprawne', color='red')\n",
    "plt.xlabel(\"Klasy\")\n",
    "plt.ylabel(\"Liczba próbek\")\n",
    "plt.title(\"Poprawne vs niepoprawne klasyfikacje dla każdej klasy\")\n",
    "plt.xticks(x, labels=np.unique(y_test_labels))\n",
    "plt.legend()\n",
    "plt.grid(True)\n",
    "plt.show()"
   ],
   "id": "151b2e7db911445",
   "outputs": [],
   "execution_count": null
  },
  {
   "metadata": {
    "ExecuteTime": {
     "end_time": "2025-01-25T22:30:39.846752Z",
     "start_time": "2025-01-25T22:30:38.665537Z"
    }
   },
   "cell_type": "code",
   "source": [
    "from sklearn.metrics import accuracy_score\n",
    "\n",
    "# Funkcja do obliczenia wpływu cech metodą permutacji\n",
    "def permutation_importance(model, X_test, y_test, metric=accuracy_score):\n",
    "    base_score = metric(np.argmax(model.predict(X_test), axis=1), np.argmax(y_test, axis=1))\n",
    "    importances = []\n",
    "    \n",
    "    for i in range(X_test.shape[1]):\n",
    "        X_test_permuted = X_test.copy()\n",
    "        np.random.shuffle(X_test_permuted[:, i])  # Losowa permutacja cechy\n",
    "        permuted_score = metric(np.argmax(model.predict(X_test_permuted), axis=1), np.argmax(y_test, axis=1))\n",
    "        importances.append(base_score - permuted_score)\n",
    "    \n",
    "    return importances\n",
    "\n",
    "# Obliczenie wpływu cech\n",
    "feature_importances = permutation_importance(model, X_test, y_test)\n",
    "\n",
    "# Wyświetlenie wyników\n",
    "for i, importance in enumerate(feature_importances):\n",
    "    print(f\"Cechy {X.columns[i]}: Wpływ na dokładność = {importance:.4f}\")\n",
    "\n",
    "# Wizualizacja wpływu cech\n",
    "plt.figure(figsize=(10, 6))\n",
    "plt.bar(X.columns, feature_importances, color=\"blue\")\n",
    "plt.title(\"Wpływ cech na dokładność (Permutation Importance)\")\n",
    "plt.xlabel(\"Cechy\")\n",
    "plt.ylabel(\"Zmiana dokładności\")\n",
    "plt.grid(True)\n",
    "plt.show()"
   ],
   "id": "de503b87f31dbb2",
   "outputs": [
    {
     "name": "stdout",
     "output_type": "stream",
     "text": [
      "\u001B[1m143/143\u001B[0m \u001B[32m━━━━━━━━━━━━━━━━━━━━\u001B[0m\u001B[37m\u001B[0m \u001B[1m0s\u001B[0m 701us/step\n",
      "\u001B[1m143/143\u001B[0m \u001B[32m━━━━━━━━━━━━━━━━━━━━\u001B[0m\u001B[37m\u001B[0m \u001B[1m0s\u001B[0m 657us/step\n",
      "\u001B[1m143/143\u001B[0m \u001B[32m━━━━━━━━━━━━━━━━━━━━\u001B[0m\u001B[37m\u001B[0m \u001B[1m0s\u001B[0m 694us/step\n",
      "\u001B[1m143/143\u001B[0m \u001B[32m━━━━━━━━━━━━━━━━━━━━\u001B[0m\u001B[37m\u001B[0m \u001B[1m0s\u001B[0m 651us/step\n",
      "\u001B[1m143/143\u001B[0m \u001B[32m━━━━━━━━━━━━━━━━━━━━\u001B[0m\u001B[37m\u001B[0m \u001B[1m0s\u001B[0m 697us/step\n",
      "\u001B[1m143/143\u001B[0m \u001B[32m━━━━━━━━━━━━━━━━━━━━\u001B[0m\u001B[37m\u001B[0m \u001B[1m0s\u001B[0m 644us/step\n",
      "Cechy Distance: Wpływ na dokładność = 0.1599\n",
      "Cechy Amplitude: Wpływ na dokładność = 0.0851\n",
      "Cechy Tau: Wpływ na dokładność = 0.2376\n",
      "Cechy DOA: Wpływ na dokładność = 0.0430\n",
      "Cechy RTT: Wpływ na dokładność = 0.1586\n"
     ]
    },
    {
     "data": {
      "text/plain": [
       "<Figure size 1000x600 with 1 Axes>"
      ],
      "image/png": "[encoded data removed]"
     },
     "metadata": {},
     "output_type": "display_data"
    }
   ],
   "execution_count": 518
  },
  {
   "metadata": {
    "ExecuteTime": {
     "end_time": "2025-02-05T19:43:57.355298Z",
     "start_time": "2025-02-05T19:43:57.351549Z"
    }
   },
   "cell_type": "code",
   "source": [
    "\n",
    "    \"\"\"Rysuje wykres dokładności predykcji dla każdej klasy.\"\"\"\n",
    "    report = classification_report(y_true, y_pred, output_dict=True)\n",
    "    class_accuracies = [report[str(label)]['precision'] for label in class_labels]\n",
    "    \n",
    "    plt.figure(figsize=(10, 6))\n",
    "    plt.bar(class_labels, class_accuracies, color='skyblue')\n",
    "    plt.xlabel(\"Klasa\")\n",
    "    plt.ylabel(\"Dokładność predykcji\")\n",
    "    plt.title(\"Dokładność predykcji dla każdej klasy\")\n",
    "    plt.ylim(0, 1)\n",
    "    plt.xticks(class_labels)\n",
    "    plt.grid(axis='y', linestyle='--', alpha=0.7)\n",
    "    \n",
    "    for i, acc in enumerate(class_accuracies):\n",
    "        plt.text(class_labels[i], acc + 0.02, f\"{acc:.2f}\", ha='center', fontsize=12)\n",
    "    \n",
    "    plt.show()\n"
   ],
   "id": "42699637c8c8d1a3",
   "outputs": [],
   "execution_count": 1
  },
  {
   "metadata": {
    "ExecuteTime": {
     "end_time": "2025-01-25T22:30:39.851992Z",
     "start_time": "2025-01-25T22:30:39.849501Z"
    }
   },
   "cell_type": "code",
   "source": "\n",
   "id": "627611ee7bc11d61",
   "outputs": [],
   "execution_count": 518
  },
  {
   "metadata": {
    "ExecuteTime": {
     "end_time": "2025-01-25T22:30:39.855228Z",
     "start_time": "2025-01-25T22:30:39.852995Z"
    }
   },
   "cell_type": "code",
   "source": "",
   "id": "4c0540b5e623f54a",
   "outputs": [],
   "execution_count": 518
  }
 ],
 "metadata": {
  "kernelspec": {
   "display_name": "Python 3",
   "language": "python",
   "name": "python3"
  },
  "language_info": {
   "codemirror_mode": {
    "name": "ipython",
    "version": 2
   },
   "file_extension": ".py",
   "mimetype": "text/x-python",
   "name": "python",
   "nbconvert_exporter": "python",
   "pygments_lexer": "ipython2",
   "version": "2.7.6"
  }
 },
 "nbformat": 4,
 "nbformat_minor": 5
}
